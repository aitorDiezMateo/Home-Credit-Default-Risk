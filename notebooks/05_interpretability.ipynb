{
 "cells": [
  {
   "cell_type": "markdown",
   "id": "401c056c",
   "metadata": {},
   "source": [
    "# Interpretable Machine Learning\n",
    "\n",
    "In this section we will pick the model with the best performance in the classification task because the main task in our dataset is predicting Credit Default or No Default. nterpretability in machine learning models for predicting credit default is crucial because it allows stakeholders, such as banks or financial institutions, to understand how the model makes its decisions. This transparency helps ensure fairness, builds trust with customers, and enables regulatory compliance. Moreover, interpretability allows for better identification of underlying factors contributing to credit risk, facilitating more informed decision-making.\n",
    "\n",
    "We will use the ALE plot to visualize the effect of each of the features on predictions. We are using this instead of PDPs because these last are sensitive to correlated data, which is very common in real life datasets.\n",
    "\n",
    "First, we will load the model and the data."
   ]
  },
  {
   "cell_type": "code",
   "execution_count": 1,
   "id": "100260ce",
   "metadata": {},
   "outputs": [],
   "source": [
    "import pandas as pd\n",
    "import joblib\n",
    "import pandas as pd\n",
    "import matplotlib.pyplot as plt\n",
    "from sklearn.feature_selection import SelectFromModel\n",
    "from sklearn.model_selection import train_test_split\n",
    "from imblearn.over_sampling import ADASYN\n",
    "from sklearn.preprocessing import StandardScaler\n",
    "import cupy as cp\n",
    "from PyALE import ale\n",
    "from sklearn.ensemble import RandomForestClassifier as sk_rfc\n",
    "import numpy as np\n",
    "from sklearn.metrics import roc_auc_score"
   ]
  },
  {
   "cell_type": "code",
   "execution_count": 2,
   "id": "7e0605db",
   "metadata": {},
   "outputs": [],
   "source": [
    "data = pd.read_parquet('../data/processed/selected_features_df.parquet')\n",
    "model = joblib.load(\"../models/random_forest/random_forest.pkl\")\n",
    "\n",
    "X = data.drop(columns=['TARGET'])\n",
    "y = data['TARGET']\n",
    "\n",
    "feature_names = X.columns.tolist()"
   ]
  },
  {
   "cell_type": "markdown",
   "id": "46c29fa2",
   "metadata": {},
   "source": [
    "Standarizing the data"
   ]
  },
  {
   "cell_type": "code",
   "execution_count": 3,
   "id": "a38f4e22",
   "metadata": {},
   "outputs": [],
   "source": [
    "scaler = StandardScaler()\n",
    "X_scaled = scaler.fit_transform(X)\n",
    "X_scaled = pd.DataFrame(X_scaled, columns = X.columns)"
   ]
  },
  {
   "cell_type": "markdown",
   "id": "122be2d2",
   "metadata": {},
   "source": [
    "We are going to use SelectFromModel to get the most important features for our model."
   ]
  },
  {
   "cell_type": "code",
   "execution_count": 4,
   "id": "0fbafe1f",
   "metadata": {},
   "outputs": [],
   "source": [
    "rf_classifier = sk_rfc()\n",
    "selector = SelectFromModel(estimator=rf_classifier).fit(X_scaled, y)\n",
    "X_selected = selector.transform(X_scaled)"
   ]
  },
  {
   "cell_type": "markdown",
   "id": "a67e34ca",
   "metadata": {},
   "source": [
    "Save the names of the selected features"
   ]
  },
  {
   "cell_type": "code",
   "execution_count": 5,
   "id": "590d7baf",
   "metadata": {},
   "outputs": [],
   "source": [
    "selected_columns = X_scaled.columns[selector.get_support()]"
   ]
  },
  {
   "cell_type": "markdown",
   "id": "15f1a516",
   "metadata": {},
   "source": [
    "We need to resample to treat the class imbalance. We create the training and test sets."
   ]
  },
  {
   "cell_type": "code",
   "execution_count": 6,
   "id": "06777976",
   "metadata": {},
   "outputs": [],
   "source": [
    "adasyn = ADASYN()\n",
    "X_resampled, y_resampled = adasyn.fit_resample(X_selected, y)\n",
    "X_resampled = pd.DataFrame(X_resampled,columns=selected_columns)\n",
    "X_train, X_test, y_train, y_test = train_test_split(X_resampled, y_resampled, test_size=0.2, random_state=42)"
   ]
  },
  {
   "cell_type": "markdown",
   "id": "7912ffe8",
   "metadata": {},
   "source": [
    "We convert the data to type np.float32"
   ]
  },
  {
   "cell_type": "code",
   "execution_count": 7,
   "id": "081a7c50",
   "metadata": {},
   "outputs": [],
   "source": [
    "X_train_32 = X_train.astype(np.float32)"
   ]
  },
  {
   "cell_type": "markdown",
   "id": "12d44b61",
   "metadata": {},
   "source": [
    "Let's test the ROC_AUC_SCORE to see how good the model is."
   ]
  },
  {
   "cell_type": "code",
   "execution_count": 8,
   "id": "0880edbb",
   "metadata": {},
   "outputs": [
    {
     "name": "stdout",
     "output_type": "stream",
     "text": [
      "0.8560538422285069\n"
     ]
    }
   ],
   "source": [
    "model.fit(X_train, y_train)\n",
    "\n",
    "y_pred = model.predict(X_test)\n",
    "\n",
    "roc_auc = roc_auc_score(y_test, y_pred)\n",
    "print(roc_auc)"
   ]
  },
  {
   "cell_type": "markdown",
   "id": "5e204726",
   "metadata": {},
   "source": [
    "The model is very good. For the ALE plots we are going to use a sample of 100000 rows. If we use all the data, the time to get all the plot is really high. In my belief, for the scope of the project is fine to use a sample."
   ]
  },
  {
   "cell_type": "code",
   "execution_count": 9,
   "id": "072c802e",
   "metadata": {},
   "outputs": [],
   "source": [
    "X_train_32_sample = X_train_32.sample(n=100000).reset_index(drop=True)\n",
    "y_train_sample = y_train.iloc[X_train_32_sample.index].reset_index(drop=True)"
   ]
  },
  {
   "cell_type": "markdown",
   "id": "e1cee4df",
   "metadata": {},
   "source": [
    "Fit the model with the sample"
   ]
  },
  {
   "cell_type": "code",
   "execution_count": 10,
   "id": "5bfd5749",
   "metadata": {},
   "outputs": [],
   "source": [
    "model = model.fit(X_train_32_sample, y_train_sample)"
   ]
  },
  {
   "cell_type": "markdown",
   "id": "1a7bc76b",
   "metadata": {},
   "source": [
    "Make the ALE plots"
   ]
  },
  {
   "cell_type": "code",
   "execution_count": 11,
   "id": "b281d307",
   "metadata": {},
   "outputs": [
    {
     "name": "stderr",
     "output_type": "stream",
     "text": [
      "PyALE._ALE_generic:INFO: Continuous feature detected.\n",
      "/home/adiez/anaconda3/envs/rapids-env/lib/python3.13/site-packages/PyALE/_src/ALE_1D.py:45: FutureWarning: Series.ravel is deprecated. The underlying array is already 1D, so ravel is not necessary.  Use `to_numpy()` for conversion to a numpy array instead.\n",
      "  y_1 = model.predict(X1).ravel()\n",
      "/home/adiez/anaconda3/envs/rapids-env/lib/python3.13/site-packages/PyALE/_src/ALE_1D.py:46: FutureWarning: Series.ravel is deprecated. The underlying array is already 1D, so ravel is not necessary.  Use `to_numpy()` for conversion to a numpy array instead.\n",
      "  y_2 = model.predict(X2).ravel()\n",
      "PyALE._ALE_generic:INFO: Continuous feature detected.\n",
      "/home/adiez/anaconda3/envs/rapids-env/lib/python3.13/site-packages/PyALE/_src/ALE_1D.py:45: FutureWarning: Series.ravel is deprecated. The underlying array is already 1D, so ravel is not necessary.  Use `to_numpy()` for conversion to a numpy array instead.\n",
      "  y_1 = model.predict(X1).ravel()\n",
      "/home/adiez/anaconda3/envs/rapids-env/lib/python3.13/site-packages/PyALE/_src/ALE_1D.py:46: FutureWarning: Series.ravel is deprecated. The underlying array is already 1D, so ravel is not necessary.  Use `to_numpy()` for conversion to a numpy array instead.\n",
      "  y_2 = model.predict(X2).ravel()\n",
      "PyALE._ALE_generic:INFO: Continuous feature detected.\n",
      "/home/adiez/anaconda3/envs/rapids-env/lib/python3.13/site-packages/PyALE/_src/ALE_1D.py:45: FutureWarning: Series.ravel is deprecated. The underlying array is already 1D, so ravel is not necessary.  Use `to_numpy()` for conversion to a numpy array instead.\n",
      "  y_1 = model.predict(X1).ravel()\n",
      "/home/adiez/anaconda3/envs/rapids-env/lib/python3.13/site-packages/PyALE/_src/ALE_1D.py:46: FutureWarning: Series.ravel is deprecated. The underlying array is already 1D, so ravel is not necessary.  Use `to_numpy()` for conversion to a numpy array instead.\n",
      "  y_2 = model.predict(X2).ravel()\n",
      "PyALE._ALE_generic:INFO: Continuous feature detected.\n",
      "/home/adiez/anaconda3/envs/rapids-env/lib/python3.13/site-packages/PyALE/_src/ALE_1D.py:45: FutureWarning: Series.ravel is deprecated. The underlying array is already 1D, so ravel is not necessary.  Use `to_numpy()` for conversion to a numpy array instead.\n",
      "  y_1 = model.predict(X1).ravel()\n",
      "/home/adiez/anaconda3/envs/rapids-env/lib/python3.13/site-packages/PyALE/_src/ALE_1D.py:46: FutureWarning: Series.ravel is deprecated. The underlying array is already 1D, so ravel is not necessary.  Use `to_numpy()` for conversion to a numpy array instead.\n",
      "  y_2 = model.predict(X2).ravel()\n",
      "PyALE._ALE_generic:INFO: Continuous feature detected.\n",
      "/home/adiez/anaconda3/envs/rapids-env/lib/python3.13/site-packages/PyALE/_src/ALE_1D.py:45: FutureWarning: Series.ravel is deprecated. The underlying array is already 1D, so ravel is not necessary.  Use `to_numpy()` for conversion to a numpy array instead.\n",
      "  y_1 = model.predict(X1).ravel()\n",
      "/home/adiez/anaconda3/envs/rapids-env/lib/python3.13/site-packages/PyALE/_src/ALE_1D.py:46: FutureWarning: Series.ravel is deprecated. The underlying array is already 1D, so ravel is not necessary.  Use `to_numpy()` for conversion to a numpy array instead.\n",
      "  y_2 = model.predict(X2).ravel()\n",
      "PyALE._ALE_generic:INFO: Continuous feature detected.\n",
      "/home/adiez/anaconda3/envs/rapids-env/lib/python3.13/site-packages/PyALE/_src/ALE_1D.py:45: FutureWarning: Series.ravel is deprecated. The underlying array is already 1D, so ravel is not necessary.  Use `to_numpy()` for conversion to a numpy array instead.\n",
      "  y_1 = model.predict(X1).ravel()\n",
      "/home/adiez/anaconda3/envs/rapids-env/lib/python3.13/site-packages/PyALE/_src/ALE_1D.py:46: FutureWarning: Series.ravel is deprecated. The underlying array is already 1D, so ravel is not necessary.  Use `to_numpy()` for conversion to a numpy array instead.\n",
      "  y_2 = model.predict(X2).ravel()\n",
      "PyALE._ALE_generic:INFO: Continuous feature detected.\n",
      "/home/adiez/anaconda3/envs/rapids-env/lib/python3.13/site-packages/PyALE/_src/ALE_1D.py:45: FutureWarning: Series.ravel is deprecated. The underlying array is already 1D, so ravel is not necessary.  Use `to_numpy()` for conversion to a numpy array instead.\n",
      "  y_1 = model.predict(X1).ravel()\n",
      "/home/adiez/anaconda3/envs/rapids-env/lib/python3.13/site-packages/PyALE/_src/ALE_1D.py:46: FutureWarning: Series.ravel is deprecated. The underlying array is already 1D, so ravel is not necessary.  Use `to_numpy()` for conversion to a numpy array instead.\n",
      "  y_2 = model.predict(X2).ravel()\n",
      "PyALE._ALE_generic:INFO: Continuous feature detected.\n",
      "/home/adiez/anaconda3/envs/rapids-env/lib/python3.13/site-packages/PyALE/_src/ALE_1D.py:45: FutureWarning: Series.ravel is deprecated. The underlying array is already 1D, so ravel is not necessary.  Use `to_numpy()` for conversion to a numpy array instead.\n",
      "  y_1 = model.predict(X1).ravel()\n",
      "/home/adiez/anaconda3/envs/rapids-env/lib/python3.13/site-packages/PyALE/_src/ALE_1D.py:46: FutureWarning: Series.ravel is deprecated. The underlying array is already 1D, so ravel is not necessary.  Use `to_numpy()` for conversion to a numpy array instead.\n",
      "  y_2 = model.predict(X2).ravel()\n",
      "PyALE._ALE_generic:INFO: Continuous feature detected.\n",
      "/home/adiez/anaconda3/envs/rapids-env/lib/python3.13/site-packages/PyALE/_src/ALE_1D.py:45: FutureWarning: Series.ravel is deprecated. The underlying array is already 1D, so ravel is not necessary.  Use `to_numpy()` for conversion to a numpy array instead.\n",
      "  y_1 = model.predict(X1).ravel()\n",
      "/home/adiez/anaconda3/envs/rapids-env/lib/python3.13/site-packages/PyALE/_src/ALE_1D.py:46: FutureWarning: Series.ravel is deprecated. The underlying array is already 1D, so ravel is not necessary.  Use `to_numpy()` for conversion to a numpy array instead.\n",
      "  y_2 = model.predict(X2).ravel()\n",
      "PyALE._ALE_generic:INFO: Continuous feature detected.\n",
      "/home/adiez/anaconda3/envs/rapids-env/lib/python3.13/site-packages/PyALE/_src/ALE_1D.py:45: FutureWarning: Series.ravel is deprecated. The underlying array is already 1D, so ravel is not necessary.  Use `to_numpy()` for conversion to a numpy array instead.\n",
      "  y_1 = model.predict(X1).ravel()\n",
      "/home/adiez/anaconda3/envs/rapids-env/lib/python3.13/site-packages/PyALE/_src/ALE_1D.py:46: FutureWarning: Series.ravel is deprecated. The underlying array is already 1D, so ravel is not necessary.  Use `to_numpy()` for conversion to a numpy array instead.\n",
      "  y_2 = model.predict(X2).ravel()\n",
      "PyALE._ALE_generic:INFO: Continuous feature detected.\n",
      "/home/adiez/anaconda3/envs/rapids-env/lib/python3.13/site-packages/PyALE/_src/ALE_1D.py:45: FutureWarning: Series.ravel is deprecated. The underlying array is already 1D, so ravel is not necessary.  Use `to_numpy()` for conversion to a numpy array instead.\n",
      "  y_1 = model.predict(X1).ravel()\n",
      "/home/adiez/anaconda3/envs/rapids-env/lib/python3.13/site-packages/PyALE/_src/ALE_1D.py:46: FutureWarning: Series.ravel is deprecated. The underlying array is already 1D, so ravel is not necessary.  Use `to_numpy()` for conversion to a numpy array instead.\n",
      "  y_2 = model.predict(X2).ravel()\n",
      "PyALE._ALE_generic:INFO: Continuous feature detected.\n",
      "/home/adiez/anaconda3/envs/rapids-env/lib/python3.13/site-packages/PyALE/_src/ALE_1D.py:45: FutureWarning: Series.ravel is deprecated. The underlying array is already 1D, so ravel is not necessary.  Use `to_numpy()` for conversion to a numpy array instead.\n",
      "  y_1 = model.predict(X1).ravel()\n",
      "/home/adiez/anaconda3/envs/rapids-env/lib/python3.13/site-packages/PyALE/_src/ALE_1D.py:46: FutureWarning: Series.ravel is deprecated. The underlying array is already 1D, so ravel is not necessary.  Use `to_numpy()` for conversion to a numpy array instead.\n",
      "  y_2 = model.predict(X2).ravel()\n",
      "PyALE._ALE_generic:INFO: Continuous feature detected.\n",
      "/home/adiez/anaconda3/envs/rapids-env/lib/python3.13/site-packages/PyALE/_src/ALE_1D.py:45: FutureWarning: Series.ravel is deprecated. The underlying array is already 1D, so ravel is not necessary.  Use `to_numpy()` for conversion to a numpy array instead.\n",
      "  y_1 = model.predict(X1).ravel()\n",
      "/home/adiez/anaconda3/envs/rapids-env/lib/python3.13/site-packages/PyALE/_src/ALE_1D.py:46: FutureWarning: Series.ravel is deprecated. The underlying array is already 1D, so ravel is not necessary.  Use `to_numpy()` for conversion to a numpy array instead.\n",
      "  y_2 = model.predict(X2).ravel()\n",
      "PyALE._ALE_generic:INFO: Continuous feature detected.\n",
      "/home/adiez/anaconda3/envs/rapids-env/lib/python3.13/site-packages/PyALE/_src/ALE_1D.py:45: FutureWarning: Series.ravel is deprecated. The underlying array is already 1D, so ravel is not necessary.  Use `to_numpy()` for conversion to a numpy array instead.\n",
      "  y_1 = model.predict(X1).ravel()\n",
      "/home/adiez/anaconda3/envs/rapids-env/lib/python3.13/site-packages/PyALE/_src/ALE_1D.py:46: FutureWarning: Series.ravel is deprecated. The underlying array is already 1D, so ravel is not necessary.  Use `to_numpy()` for conversion to a numpy array instead.\n",
      "  y_2 = model.predict(X2).ravel()\n",
      "PyALE._ALE_generic:INFO: Continuous feature detected.\n",
      "/home/adiez/anaconda3/envs/rapids-env/lib/python3.13/site-packages/PyALE/_src/ALE_1D.py:45: FutureWarning: Series.ravel is deprecated. The underlying array is already 1D, so ravel is not necessary.  Use `to_numpy()` for conversion to a numpy array instead.\n",
      "  y_1 = model.predict(X1).ravel()\n",
      "/home/adiez/anaconda3/envs/rapids-env/lib/python3.13/site-packages/PyALE/_src/ALE_1D.py:46: FutureWarning: Series.ravel is deprecated. The underlying array is already 1D, so ravel is not necessary.  Use `to_numpy()` for conversion to a numpy array instead.\n",
      "  y_2 = model.predict(X2).ravel()\n",
      "PyALE._ALE_generic:INFO: Continuous feature detected.\n",
      "/home/adiez/anaconda3/envs/rapids-env/lib/python3.13/site-packages/PyALE/_src/ALE_1D.py:45: FutureWarning: Series.ravel is deprecated. The underlying array is already 1D, so ravel is not necessary.  Use `to_numpy()` for conversion to a numpy array instead.\n",
      "  y_1 = model.predict(X1).ravel()\n",
      "/home/adiez/anaconda3/envs/rapids-env/lib/python3.13/site-packages/PyALE/_src/ALE_1D.py:46: FutureWarning: Series.ravel is deprecated. The underlying array is already 1D, so ravel is not necessary.  Use `to_numpy()` for conversion to a numpy array instead.\n",
      "  y_2 = model.predict(X2).ravel()\n",
      "PyALE._ALE_generic:INFO: Continuous feature detected.\n",
      "/home/adiez/anaconda3/envs/rapids-env/lib/python3.13/site-packages/PyALE/_src/ALE_1D.py:45: FutureWarning: Series.ravel is deprecated. The underlying array is already 1D, so ravel is not necessary.  Use `to_numpy()` for conversion to a numpy array instead.\n",
      "  y_1 = model.predict(X1).ravel()\n",
      "/home/adiez/anaconda3/envs/rapids-env/lib/python3.13/site-packages/PyALE/_src/ALE_1D.py:46: FutureWarning: Series.ravel is deprecated. The underlying array is already 1D, so ravel is not necessary.  Use `to_numpy()` for conversion to a numpy array instead.\n",
      "  y_2 = model.predict(X2).ravel()\n",
      "PyALE._ALE_generic:INFO: Continuous feature detected.\n",
      "/home/adiez/anaconda3/envs/rapids-env/lib/python3.13/site-packages/PyALE/_src/ALE_1D.py:45: FutureWarning: Series.ravel is deprecated. The underlying array is already 1D, so ravel is not necessary.  Use `to_numpy()` for conversion to a numpy array instead.\n",
      "  y_1 = model.predict(X1).ravel()\n",
      "/home/adiez/anaconda3/envs/rapids-env/lib/python3.13/site-packages/PyALE/_src/ALE_1D.py:46: FutureWarning: Series.ravel is deprecated. The underlying array is already 1D, so ravel is not necessary.  Use `to_numpy()` for conversion to a numpy array instead.\n",
      "  y_2 = model.predict(X2).ravel()\n",
      "PyALE._ALE_generic:INFO: Continuous feature detected.\n",
      "/home/adiez/anaconda3/envs/rapids-env/lib/python3.13/site-packages/PyALE/_src/ALE_1D.py:45: FutureWarning: Series.ravel is deprecated. The underlying array is already 1D, so ravel is not necessary.  Use `to_numpy()` for conversion to a numpy array instead.\n",
      "  y_1 = model.predict(X1).ravel()\n",
      "/home/adiez/anaconda3/envs/rapids-env/lib/python3.13/site-packages/PyALE/_src/ALE_1D.py:46: FutureWarning: Series.ravel is deprecated. The underlying array is already 1D, so ravel is not necessary.  Use `to_numpy()` for conversion to a numpy array instead.\n",
      "  y_2 = model.predict(X2).ravel()\n",
      "PyALE._ALE_generic:INFO: Continuous feature detected.\n",
      "/home/adiez/anaconda3/envs/rapids-env/lib/python3.13/site-packages/PyALE/_src/ALE_1D.py:45: FutureWarning: Series.ravel is deprecated. The underlying array is already 1D, so ravel is not necessary.  Use `to_numpy()` for conversion to a numpy array instead.\n",
      "  y_1 = model.predict(X1).ravel()\n",
      "/home/adiez/anaconda3/envs/rapids-env/lib/python3.13/site-packages/PyALE/_src/ALE_1D.py:46: FutureWarning: Series.ravel is deprecated. The underlying array is already 1D, so ravel is not necessary.  Use `to_numpy()` for conversion to a numpy array instead.\n",
      "  y_2 = model.predict(X2).ravel()\n"
     ]
    }
   ],
   "source": [
    "for feature_name in X_train_32_sample.columns:\n",
    "    ale_plot = ale(X_train_32_sample, model, feature=[feature_name], grid_size=50,include_CI=False)\n",
    "    plt.savefig(f\"../ale_plots/{feature_name}.png\", dpi=300, bbox_inches=\"tight\")\n",
    "    plt.close() "
   ]
  },
  {
   "cell_type": "markdown",
   "id": "6a1c1aec",
   "metadata": {},
   "source": [
    "The ALE plots generated can be found in the directory **ale_plots**.\n",
    "\n",
    "To interpret this ALE plots we have to take into consideration, that if the value is above 0 it increases the probability of predicting a Default. If the probability is below 0, it increases the probability of No Default. Here there are some interesting findings:\n",
    "\n",
    "* AMT_INCOME_TOTAL doesn't affect the prediction as its value is always 0. Which is an interesting finding considering that, at first glance, we might think that the lower the income, the higher the probability of default.\n",
    "* In AMT_CREDIT we can see that until a concrete credit amount it decreases the probability of Default, but after a certain value it increases considereably the probability of Default.\n",
    "* Low values in INCOME_PER_FAMILY_MEMBER increases the probability of Default.\n",
    "* Looking at AGE_AT_APPLICATION, the younger you are, the higher the probability of default. After a certain age, the probability of default starts to decrease.\n",
    "* According to INCOME_GOODS_RATIO, low values increase your probability of default, while high values decrease it.\n",
    "* Low values in INCOME_CREDIT_RATIO increase the probability of default, while high values decrease it.\n",
    "* Individuals with a low value in DAYS_LAST_PHONE_CHANGE have a higher probability of default.\n",
    "* Very high values in HOUR_APPR_PROCESS_START and DAYS_ID_PUBLISH significantly increase the probability of default.\n",
    "* High, uncommon values in DAYS_EMPLOYED increase the probability of default.\n",
    "* Low values in AMT_GOODS_PRICE increase the probability of default."
   ]
  }
 ],
 "metadata": {
  "kernelspec": {
   "display_name": "rapids-env",
   "language": "python",
   "name": "python3"
  },
  "language_info": {
   "codemirror_mode": {
    "name": "ipython",
    "version": 3
   },
   "file_extension": ".py",
   "mimetype": "text/x-python",
   "name": "python",
   "nbconvert_exporter": "python",
   "pygments_lexer": "ipython3",
   "version": "3.13.5"
  }
 },
 "nbformat": 4,
 "nbformat_minor": 5
}
